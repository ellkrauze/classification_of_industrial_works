{
 "cells": [
  {
   "cell_type": "markdown",
   "metadata": {},
   "source": [
    "# Classification of Industrial Works"
   ]
  },
  {
   "cell_type": "code",
   "execution_count": null,
   "metadata": {},
   "outputs": [],
   "source": [
    "# ! pip install -r requirements"
   ]
  },
  {
   "cell_type": "code",
   "execution_count": null,
   "metadata": {},
   "outputs": [],
   "source": [
    "# ! pip install torch"
   ]
  },
  {
   "cell_type": "code",
   "execution_count": 17,
   "metadata": {},
   "outputs": [],
   "source": [
    "from scipy.special import softmax"
   ]
  },
  {
   "cell_type": "code",
   "execution_count": 2,
   "metadata": {},
   "outputs": [
    {
     "name": "stderr",
     "output_type": "stream",
     "text": [
      "/Users/ellkrauze/projects/ITMO/classification_of_industrial_works/industrial-env/lib/python3.11/site-packages/tqdm/auto.py:21: TqdmWarning: IProgress not found. Please update jupyter and ipywidgets. See https://ipywidgets.readthedocs.io/en/stable/user_install.html\n",
      "  from .autonotebook import tqdm as notebook_tqdm\n",
      "[nltk_data] Downloading package punkt to /Users/ellkrauze/nltk_data...\n",
      "[nltk_data]   Package punkt is already up-to-date!\n",
      "[nltk_data] Downloading package wordnet to\n",
      "[nltk_data]     /Users/ellkrauze/nltk_data...\n",
      "[nltk_data]   Package wordnet is already up-to-date!\n"
     ]
    }
   ],
   "source": [
    "import re\n",
    "import torch\n",
    "import random\n",
    "import pandas as pd\n",
    "import numpy as np\n",
    "import nltk\n",
    "import matplotlib.pyplot as plt\n",
    "\n",
    "from sklearn.model_selection import train_test_split\n",
    "from sklearn import preprocessing\n",
    "from scipy.special import softmax\n",
    "\n",
    "from nltk.corpus import stopwords\n",
    "from nltk.tokenize import word_tokenize\n",
    "from nltk.stem import WordNetLemmatizer\n",
    "\n",
    "from pymystem3 import Mystem\n",
    "\n",
    "from simpletransformers.classification import MultiLabelClassificationModel, ClassificationModel\n",
    "\n",
    "nltk.download('punkt')\n",
    "nltk.download('wordnet')\n",
    "\n",
    "def seed_all(seed_value):\n",
    "    random.seed(seed_value) # Python\n",
    "    np.random.seed(seed_value) # cpu vars\n",
    "    torch.manual_seed(seed_value) # cpu  vars\n",
    "    \n",
    "    if torch.cuda.is_available(): \n",
    "        torch.cuda.manual_seed(seed_value)\n",
    "        torch.cuda.manual_seed_all(seed_value) # gpu vars\n",
    "        torch.backends.cudnn.deterministic = True  #needed\n",
    "        torch.backends.cudnn.benchmark = False\n",
    "\n",
    "stop = stopwords.words('russian')\n",
    "# df = pd.read_csv(\"lab2_oil_gas_field_construction_data.csv\")\n",
    "# feature = \"work_name\"\n",
    "df = pd.read_csv(\"corrected_df.csv\")\n",
    "feature = \"corrected_work_name\"\n",
    "target = \"generalized_work_class\"\n",
    "val_size = 0.2\n",
    "seed = 42\n",
    "seed_all(seed)\n",
    "use_cuda = torch.cuda.is_available()\n",
    "my_stem = Mystem()\n"
   ]
  },
  {
   "cell_type": "code",
   "execution_count": 5,
   "metadata": {},
   "outputs": [],
   "source": [
    "def get_num_words_per_sample(sample_texts):\n",
    "    \"\"\"Returns the median number of words per sample given corpus.\n",
    "\n",
    "    # Arguments\n",
    "        sample_texts: list, sample texts.\n",
    "\n",
    "    # Returns\n",
    "        int, median number of words per sample.\n",
    "    \"\"\"\n",
    "    num_words = [len(s.split()) for s in sample_texts]\n",
    "    return np.median(num_words)\n",
    "\n",
    "def plot_sample_length_distribution(sample_texts):\n",
    "    \"\"\"Plots the sample length distribution.\n",
    "\n",
    "    # Arguments\n",
    "        samples_texts: list, sample texts.\n",
    "    \"\"\"\n",
    "    plt.hist([len(s) for s in sample_texts], 50)\n",
    "    plt.xlabel('Length of a sample')\n",
    "    plt.ylabel('Number of samples')\n",
    "    plt.title('Sample length distribution')\n",
    "    plt.show()\n",
    "\n",
    "def word_lemmatizer(text):\n",
    "    # lem_text = [my_stem.lemmatize(i) for i in text]\n",
    "    lem_text = my_stem.lemmatize(text)\n",
    "    return lem_text\n",
    "\n",
    "def preprocess(x):\n",
    "    x = re.sub(r\"(@[А-Яа-я0-9]+)|([^0-9А-Яа-я \\t\\n])|(\\w+:\\/\\/\\S+)|^rt|http.+?\", \"\", x)\n",
    "    x = re.sub(r\"\\d+\", \"\", x)\n",
    "    x = ' '.join([word for word in x.split() if word not in (stop)])\n",
    "    x = word_tokenize(x)\n",
    "    x = ' '.join(x)\n",
    "    x = word_lemmatizer(x)\n",
    "    x = ' '.join(x).rstrip()\n",
    "    return x\n",
    "\n",
    "def clean_text(df_values):\n",
    "    return df_values.str.lower().apply(lambda x: preprocess(x))\n",
    "        # .apply(lambda elem: re.sub(r\"(@[А-Яа-я0-9]+)|([^0-9А-Яа-я \\t\\n])|(\\w+:\\/\\/\\S+)|^rt|http.+?\", \"\", elem))\\\n",
    "        # .apply(lambda elem: re.sub(r\"\\d+\", \"\", elem))\\\n",
    "        # .apply(lambda x: ' '.join([word for word in x.split() if word not in (stop)]))\\\n",
    "        # .apply(lambda x: word_tokenize(x))\\\n",
    "        # .apply(lambda x: ' '.join(x)) \\\n",
    "        # .apply(lambda x: word_lemmatizer(x))\\\n",
    "        # .apply(lambda x: ' '.join(x)) \\\n",
    "        # .apply(lambda x: x.rstrip())\\\n",
    "        # .apply(lambda x: spell(x))\n"
   ]
  },
  {
   "cell_type": "code",
   "execution_count": 6,
   "metadata": {},
   "outputs": [],
   "source": [
    "df = df.drop_duplicates()"
   ]
  },
  {
   "cell_type": "code",
   "execution_count": 7,
   "metadata": {},
   "outputs": [],
   "source": [
    "predictions_df = df[df[target].isna()] # Empty `target` column\n",
    "\n",
    "train_df = df[~df[target].isna()]\n",
    "\n",
    "lbl = preprocessing.LabelEncoder()\n",
    "\n",
    "# Encode categorical labels (`target`)\n",
    "train_df[target] = lbl.fit_transform(train_df[target].values.astype('str'))\n",
    "\n",
    "train_df = train_df[[feature, target]].rename(columns={feature: \"text\", target: \"label\"})\n",
    "train_df[\"text\"] = clean_text(train_df[\"text\"])"
   ]
  },
  {
   "cell_type": "code",
   "execution_count": 8,
   "metadata": {},
   "outputs": [],
   "source": [
    "X_train, X_val, y_train, y_val = train_test_split(\n",
    "    train_df[\"text\"], train_df[\"label\"], test_size=val_size, random_state=seed) "
   ]
  },
  {
   "cell_type": "markdown",
   "metadata": {},
   "source": [
    "Explore the dataset."
   ]
  },
  {
   "cell_type": "code",
   "execution_count": 58,
   "metadata": {},
   "outputs": [
    {
     "data": {
      "text/plain": [
       "label\n",
       "139    884\n",
       "123    470\n",
       "171    430\n",
       "144    348\n",
       "149    341\n",
       "      ... \n",
       "61       1\n",
       "55       1\n",
       "48       1\n",
       "45       1\n",
       "32       1\n",
       "Name: label, Length: 207, dtype: int64"
      ]
     },
     "execution_count": 58,
     "metadata": {},
     "output_type": "execute_result"
    }
   ],
   "source": [
    "train_df.drop_duplicates().groupby(by=\"label\")[\"label\"].count().sort_values(ascending=False)"
   ]
  },
  {
   "cell_type": "code",
   "execution_count": 57,
   "metadata": {},
   "outputs": [
    {
     "name": "stdout",
     "output_type": "stream",
     "text": [
      "Training set size: 237486\n",
      "Validation set size: 59372\n",
      "Number of 'generalized_work_class' classes: 206\n",
      "Average number of words per `corrected_work_name` sample: 3.0\n",
      "Number of samples per'generalized_work_class' in the dataset: label\n",
      "139    26081\n",
      "123    21547\n",
      "171    20943\n",
      "192    16096\n",
      "2      13918\n",
      "       ...  \n",
      "40         2\n",
      "62         2\n",
      "48         1\n",
      "45         1\n",
      "164        1\n",
      "Name: label, Length: 207, dtype: int64\n"
     ]
    }
   ],
   "source": [
    "print(\"Training set size:\", len(X_train))\n",
    "print(\"Validation set size:\", len(X_val))\n",
    "print(f\"Number of '{target}' classes:\", len(y_train.unique()))\n",
    "print(f\"Average number of words per `{feature}` sample:\", get_num_words_per_sample(X_train.values))\n",
    "print(f\"Number of samples per'{target}' in the dataset:\", train_df.groupby(by=\"label\")[\"label\"].count().sort_values(ascending=False))"
   ]
  },
  {
   "cell_type": "code",
   "execution_count": null,
   "metadata": {},
   "outputs": [
    {
     "data": {
      "image/png": "[encoded data removed]",
      "text/plain": [
       "<Figure size 640x480 with 1 Axes>"
      ]
     },
     "metadata": {},
     "output_type": "display_data"
    }
   ],
   "source": [
    "# https://developers.google.com/machine-learning/guides/text-classification/step-2-5\n",
    "plot_sample_length_distribution(train_df[feature].values)"
   ]
  },
  {
   "cell_type": "code",
   "execution_count": 92,
   "metadata": {},
   "outputs": [
    {
     "name": "stdout",
     "output_type": "stream",
     "text": [
      "32041     пт ол поз экз внутренней поверхности резервуара\n",
      "215123                     устройство песчаной подготовки\n",
      "206302                       укладка футляра диаметром мм\n",
      "9771             изоляция сварных стыков трубопровода ду \n",
      "136187                                монтаж ростверка рм\n",
      "65477                                    обратная засыпка\n",
      "253235                бурение скважины протектор д мм l м\n",
      "89916                                     монтаж арматуры\n",
      "117690                                                пор\n",
      "183112                             бетонная подготовка б \n",
      "Name: corrected_work_name, dtype: object\n"
     ]
    }
   ],
   "source": [
    "# Observe data\n",
    "print(X_train[10:20])"
   ]
  },
  {
   "cell_type": "code",
   "execution_count": 10,
   "metadata": {},
   "outputs": [
    {
     "data": {
      "text/html": [
       "<div>\n",
       "<style scoped>\n",
       "    .dataframe tbody tr th:only-of-type {\n",
       "        vertical-align: middle;\n",
       "    }\n",
       "\n",
       "    .dataframe tbody tr th {\n",
       "        vertical-align: top;\n",
       "    }\n",
       "\n",
       "    .dataframe thead th {\n",
       "        text-align: right;\n",
       "    }\n",
       "</style>\n",
       "<table border=\"1\" class=\"dataframe\">\n",
       "  <thead>\n",
       "    <tr style=\"text-align: right;\">\n",
       "      <th></th>\n",
       "      <th>text</th>\n",
       "      <th>label</th>\n",
       "    </tr>\n",
       "  </thead>\n",
       "  <tbody>\n",
       "    <tr>\n",
       "      <th>13797</th>\n",
       "      <td>монтаж   заземление</td>\n",
       "      <td>140</td>\n",
       "    </tr>\n",
       "    <tr>\n",
       "      <th>285192</th>\n",
       "      <td>монтаж   заземлять   перемычка</td>\n",
       "      <td>140</td>\n",
       "    </tr>\n",
       "    <tr>\n",
       "      <th>7818</th>\n",
       "      <td>пора</td>\n",
       "      <td>188</td>\n",
       "    </tr>\n",
       "    <tr>\n",
       "      <th>26304</th>\n",
       "      <td>монтаж   трубопровод   стабилизировать   устро...</td>\n",
       "      <td>171</td>\n",
       "    </tr>\n",
       "    <tr>\n",
       "      <th>49432</th>\n",
       "      <td>разработка   корыто   дорожный   одежда</td>\n",
       "      <td>198</td>\n",
       "    </tr>\n",
       "    <tr>\n",
       "      <th>...</th>\n",
       "      <td>...</td>\n",
       "      <td>...</td>\n",
       "    </tr>\n",
       "    <tr>\n",
       "      <th>119879</th>\n",
       "      <td>обратный   засыпка   пазуха   скважина   грави...</td>\n",
       "      <td>181</td>\n",
       "    </tr>\n",
       "    <tr>\n",
       "      <th>259178</th>\n",
       "      <td>погружение   свая</td>\n",
       "      <td>192</td>\n",
       "    </tr>\n",
       "    <tr>\n",
       "      <th>131932</th>\n",
       "      <td>разработка   грунт   траншея</td>\n",
       "      <td>198</td>\n",
       "    </tr>\n",
       "    <tr>\n",
       "      <th>146867</th>\n",
       "      <td>забивка   свая</td>\n",
       "      <td>192</td>\n",
       "    </tr>\n",
       "    <tr>\n",
       "      <th>121958</th>\n",
       "      <td>устройство   песчаный   подготовка   нк</td>\n",
       "      <td>206</td>\n",
       "    </tr>\n",
       "  </tbody>\n",
       "</table>\n",
       "<p>237486 rows × 2 columns</p>\n",
       "</div>"
      ],
      "text/plain": [
       "                                                     text  label\n",
       "13797                                 монтаж   заземление    140\n",
       "285192                     монтаж   заземлять   перемычка    140\n",
       "7818                                                 пора    188\n",
       "26304   монтаж   трубопровод   стабилизировать   устро...    171\n",
       "49432             разработка   корыто   дорожный   одежда    198\n",
       "...                                                   ...    ...\n",
       "119879  обратный   засыпка   пазуха   скважина   грави...    181\n",
       "259178                                  погружение   свая    192\n",
       "131932                       разработка   грунт   траншея    198\n",
       "146867                                     забивка   свая    192\n",
       "121958            устройство   песчаный   подготовка   нк    206\n",
       "\n",
       "[237486 rows x 2 columns]"
      ]
     },
     "execution_count": 10,
     "metadata": {},
     "output_type": "execute_result"
    }
   ],
   "source": [
    "train = pd.DataFrame(data = {\"text\": X_train, \"label\": y_train})\n",
    "val = pd.DataFrame(data = {\"text\": X_val, \"label\": y_val})\n",
    "train"
   ]
  },
  {
   "cell_type": "markdown",
   "metadata": {},
   "source": [
    "# Model"
   ]
  },
  {
   "cell_type": "code",
   "execution_count": 19,
   "metadata": {},
   "outputs": [
    {
     "name": "stderr",
     "output_type": "stream",
     "text": [
      "Some weights of RobertaForSequenceClassification were not initialized from the model checkpoint at roberta-base and are newly initialized: ['classifier.dense.bias', 'classifier.out_proj.bias', 'classifier.dense.weight', 'classifier.out_proj.weight']\n",
      "You should probably TRAIN this model on a down-stream task to be able to use it for predictions and inference.\n"
     ]
    }
   ],
   "source": [
    "# model = ClassificationModel(\n",
    "#     'roberta', \n",
    "#     'roberta-base', \n",
    "#     use_cuda=use_cuda,\n",
    "#     num_labels= train_df['label'].nunique(), \n",
    "#     args={\n",
    "#         'train_batch_size':32,\n",
    "#         # 'reprocess_input_data': True,\n",
    "#         'reprocess_input_data': False,\n",
    "#         'overwrite_output_dir': True,\n",
    "#         'fp16': False,\n",
    "#         'do_lower_case': False,\n",
    "#         'num_train_epochs': 1,\n",
    "#         'max_seq_length': 256,\n",
    "#         'regression': False,\n",
    "#         'manual_seed': seed,\n",
    "#         \"learning_rate\":5e-4,\n",
    "#         'weight_decay':0.0,\n",
    "#         \"save_eval_checkpoints\": False,\n",
    "#         \"save_model_every_epoch\": False,\n",
    "#         \"silent\": False\n",
    "#     }\n",
    "# )"
   ]
  },
  {
   "cell_type": "code",
   "execution_count": null,
   "metadata": {},
   "outputs": [],
   "source": [
    "# ! export TOKENIZERS_PARALLELISM=false\n",
    "# model.train_model(train, eval_df=val)"
   ]
  },
  {
   "cell_type": "markdown",
   "metadata": {},
   "source": [
    "# Load model"
   ]
  },
  {
   "cell_type": "markdown",
   "metadata": {},
   "source": [
    "Training was performed using Google Colab resources. Model's progress was saved in `outputs` folder which is loaded as a checkpoint below."
   ]
  },
  {
   "cell_type": "code",
   "execution_count": 11,
   "metadata": {},
   "outputs": [
    {
     "name": "stdout",
     "output_type": "stream",
     "text": [
      "207\n"
     ]
    }
   ],
   "source": [
    "num_labels = train_df['label'].nunique()\n",
    "print(num_labels)"
   ]
  },
  {
   "cell_type": "code",
   "execution_count": 13,
   "metadata": {},
   "outputs": [],
   "source": [
    "model = ClassificationModel(\n",
    "    'roberta', \n",
    "    'outputs/', \n",
    "    use_cuda=use_cuda,\n",
    "    num_labels = num_labels, \n",
    "    args={\n",
    "        'train_batch_size':32,\n",
    "        'reprocess_input_data': True,\n",
    "        # 'reprocess_input_data': False,\n",
    "        'overwrite_output_dir': True,\n",
    "        'fp16': False,\n",
    "        'do_lower_case': False,\n",
    "        'num_train_epochs': 1,\n",
    "        'max_seq_length': 150,\n",
    "        'regression': False,\n",
    "        'manual_seed': seed,\n",
    "        \"learning_rate\":5e-5,\n",
    "        'weight_decay':0.0,\n",
    "        \"save_eval_checkpoints\": False,\n",
    "        \"save_model_every_epoch\": False,\n",
    "        \"silent\": False\n",
    "    }\n",
    ")"
   ]
  },
  {
   "cell_type": "markdown",
   "metadata": {},
   "source": [
    "### Validation"
   ]
  },
  {
   "cell_type": "code",
   "execution_count": 15,
   "metadata": {},
   "outputs": [
    {
     "name": "stderr",
     "output_type": "stream",
     "text": [
      "/Users/ellkrauze/projects/ITMO/classification_of_industrial_works/industrial-env/lib/python3.11/site-packages/simpletransformers/classification/classification_model.py:1454: UserWarning: Dataframe headers not specified. Falling back to using column 0 as text and column 1 as labels.\n",
      "  warnings.warn(\n",
      "  0%|          | 0/59372 [00:00<?, ?it/s]huggingface/tokenizers: The current process just got forked, after parallelism has already been used. Disabling parallelism to avoid deadlocks...\n",
      "To disable this warning, you can either:\n",
      "\t- Avoid using `tokenizers` before the fork if possible\n",
      "\t- Explicitly set the environment variable TOKENIZERS_PARALLELISM=(true | false)\n",
      "  0%|          | 119/59372 [00:13<1:48:02,  9.14it/s]\n",
      "Running Evaluation: 100%|██████████| 7422/7422 [58:08<00:00,  2.13it/s] \n"
     ]
    }
   ],
   "source": [
    "result_val, model_outputs_val, wrong_preds_val = model.eval_model(val)"
   ]
  },
  {
   "cell_type": "code",
   "execution_count": 18,
   "metadata": {},
   "outputs": [],
   "source": [
    "preds_tmp_val = softmax(model_outputs_val, axis=1)\n",
    "preds_val = [np.argmax(x) for x in preds_tmp_val]"
   ]
  },
  {
   "cell_type": "code",
   "execution_count": 19,
   "metadata": {},
   "outputs": [
    {
     "data": {
      "text/plain": [
       "({'mcc': 0.9886828152975421}, ['NA'])"
      ]
     },
     "execution_count": 19,
     "metadata": {},
     "output_type": "execute_result"
    }
   ],
   "source": [
    "model.compute_metrics(preds_val, model_outputs_val, labels=y_val)"
   ]
  },
  {
   "cell_type": "markdown",
   "metadata": {},
   "source": [
    "### Test data"
   ]
  },
  {
   "cell_type": "code",
   "execution_count": 29,
   "metadata": {},
   "outputs": [],
   "source": [
    "df_test = pd.read_csv(\"lab2_test_dataset.csv\", sep=';')\n",
    "df_test = df_test.dropna()\n",
    "test = df_test.rename(columns={\"work_name\": \"text\", \"generalized_work_class\": \"label_text\" })\n",
    "test[\"label\"] = lbl.transform(test[\"label_text\"])\n",
    "test = test[[\"text\", \"label\"]]\n",
    "\n",
    "test[\"text\"] = clean_text(test[\"text\"])"
   ]
  },
  {
   "cell_type": "code",
   "execution_count": 31,
   "metadata": {},
   "outputs": [
    {
     "name": "stderr",
     "output_type": "stream",
     "text": [
      "/Users/ellkrauze/projects/ITMO/classification_of_industrial_works/industrial-env/lib/python3.11/site-packages/simpletransformers/classification/classification_model.py:1454: UserWarning: Dataframe headers not specified. Falling back to using column 0 as text and column 1 as labels.\n",
      "  warnings.warn(\n",
      "  0%|          | 0/197902 [00:00<?, ?it/s]huggingface/tokenizers: The current process just got forked, after parallelism has already been used. Disabling parallelism to avoid deadlocks...\n",
      "To disable this warning, you can either:\n",
      "\t- Avoid using `tokenizers` before the fork if possible\n",
      "\t- Explicitly set the environment variable TOKENIZERS_PARALLELISM=(true | false)\n",
      "  0%|          | 396/197902 [00:34<4:44:39, 11.56it/s]\n",
      "Running Evaluation: 100%|██████████| 24738/24738 [3:09:35<00:00,  2.17it/s]  \n"
     ]
    }
   ],
   "source": [
    "result_test, model_outputs_test, wrong_preds_test = model.eval_model(test)"
   ]
  },
  {
   "cell_type": "code",
   "execution_count": 38,
   "metadata": {},
   "outputs": [],
   "source": [
    "preds_tmp_test = softmax(model_outputs_test, axis=1)\n",
    "preds_test = [np.argmax(x) for x in preds_tmp_test]"
   ]
  },
  {
   "cell_type": "code",
   "execution_count": 39,
   "metadata": {},
   "outputs": [
    {
     "data": {
      "text/plain": [
       "({'mcc': 0.9761436852565957}, ['NA'])"
      ]
     },
     "execution_count": 39,
     "metadata": {},
     "output_type": "execute_result"
    }
   ],
   "source": [
    "model.compute_metrics(preds_test, model_outputs_test, labels=test[\"label\"])"
   ]
  },
  {
   "cell_type": "code",
   "execution_count": 41,
   "metadata": {},
   "outputs": [],
   "source": [
    "def multiclass_logloss(actual, predicted, eps=1e-15):\n",
    "    \"\"\"Multi class version of Logarithmic Loss metric.\n",
    "    :param actual: Array containing the actual target classes\n",
    "    :param predicted: Matrix with class predictions, one probability per class\n",
    "    \"\"\"\n",
    "    # Convert 'actual' to a binary array if it's not already:\n",
    "    if len(actual.shape) == 1:\n",
    "        actual2 = np.zeros((actual.shape[0], predicted.shape[1]))\n",
    "        for i, val in enumerate(actual):\n",
    "            actual2[i, val] = 1\n",
    "        actual = actual2\n",
    "\n",
    "    clip = np.clip(predicted, eps, 1 - eps)\n",
    "    rows = actual.shape[0]\n",
    "    vsota = np.sum(actual * np.log(clip))\n",
    "    return -1.0 / rows * vsota"
   ]
  },
  {
   "cell_type": "code",
   "execution_count": 45,
   "metadata": {},
   "outputs": [
    {
     "data": {
      "text/plain": [
       "(59372,)"
      ]
     },
     "execution_count": 45,
     "metadata": {},
     "output_type": "execute_result"
    }
   ],
   "source": [
    "np.array(preds_val).shape"
   ]
  },
  {
   "cell_type": "code",
   "execution_count": 48,
   "metadata": {},
   "outputs": [
    {
     "data": {
      "text/plain": [
       "(197902, 207)"
      ]
     },
     "execution_count": 48,
     "metadata": {},
     "output_type": "execute_result"
    }
   ],
   "source": [
    "model_outputs_test.shape"
   ]
  },
  {
   "cell_type": "markdown",
   "metadata": {},
   "source": [
    "### Results"
   ]
  },
  {
   "cell_type": "code",
   "execution_count": null,
   "metadata": {},
   "outputs": [],
   "source": [
    "roc_auc_score(labels, softmax(model_outputs, axis=1)[:,1])"
   ]
  },
  {
   "cell_type": "code",
   "execution_count": 86,
   "metadata": {},
   "outputs": [
    {
     "data": {
      "text/plain": [
       "(59372,)"
      ]
     },
     "execution_count": 86,
     "metadata": {},
     "output_type": "execute_result"
    }
   ],
   "source": [
    "y_val.shape"
   ]
  },
  {
   "cell_type": "code",
   "execution_count": 85,
   "metadata": {},
   "outputs": [
    {
     "data": {
      "text/plain": [
       "(59372, 207)"
      ]
     },
     "execution_count": 85,
     "metadata": {},
     "output_type": "execute_result"
    }
   ],
   "source": [
    "softmax(model_outputs_val, axis=1).shape"
   ]
  },
  {
   "cell_type": "code",
   "execution_count": 87,
   "metadata": {},
   "outputs": [
    {
     "name": "stdout",
     "output_type": "stream",
     "text": [
      "Validation accuracy: 0.9890857643333558\n",
      "Test accuracy: 0.9769785045123344\n"
     ]
    },
    {
     "ename": "ValueError",
     "evalue": "Target scores need to be probabilities for multiclass roc_auc, i.e. they should sum up to 1.0 over classes",
     "output_type": "error",
     "traceback": [
      "\u001b[0;31m---------------------------------------------------------------------------\u001b[0m",
      "\u001b[0;31mValueError\u001b[0m                                Traceback (most recent call last)",
      "\u001b[1;32m/Users/ellkrauze/projects/ITMO/classification_of_industrial_works/main.ipynb Cell 39\u001b[0m line \u001b[0;36m9\n\u001b[1;32m      <a href='vscode-notebook-cell:/Users/ellkrauze/projects/ITMO/classification_of_industrial_works/main.ipynb#Y112sZmlsZQ%3D%3D?line=2'>3</a>\u001b[0m \u001b[39mprint\u001b[39m(\u001b[39mf\u001b[39m\u001b[39m\"\u001b[39m\u001b[39mTest accuracy:\u001b[39m\u001b[39m\"\u001b[39m, accuracy_score(test[\u001b[39m\"\u001b[39m\u001b[39mlabel\u001b[39m\u001b[39m\"\u001b[39m], preds_test))\n\u001b[1;32m      <a href='vscode-notebook-cell:/Users/ellkrauze/projects/ITMO/classification_of_industrial_works/main.ipynb#Y112sZmlsZQ%3D%3D?line=4'>5</a>\u001b[0m \u001b[39m# print(f\"Validation accuracy:\", roc_auc_score(\u001b[39;00m\n\u001b[1;32m      <a href='vscode-notebook-cell:/Users/ellkrauze/projects/ITMO/classification_of_industrial_works/main.ipynb#Y112sZmlsZQ%3D%3D?line=5'>6</a>\u001b[0m \u001b[39m#     y_val, softmax(model_outputs_val, axis=1)[:,1], \u001b[39;00m\n\u001b[1;32m      <a href='vscode-notebook-cell:/Users/ellkrauze/projects/ITMO/classification_of_industrial_works/main.ipynb#Y112sZmlsZQ%3D%3D?line=6'>7</a>\u001b[0m \u001b[39m#     average='macro', multi_class='ovr'))\u001b[39;00m\n\u001b[0;32m----> <a href='vscode-notebook-cell:/Users/ellkrauze/projects/ITMO/classification_of_industrial_works/main.ipynb#Y112sZmlsZQ%3D%3D?line=8'>9</a>\u001b[0m \u001b[39mprint\u001b[39m(\u001b[39mf\u001b[39m\u001b[39m\"\u001b[39m\u001b[39mValidation accuracy:\u001b[39m\u001b[39m\"\u001b[39m, roc_auc_score(\n\u001b[1;32m     <a href='vscode-notebook-cell:/Users/ellkrauze/projects/ITMO/classification_of_industrial_works/main.ipynb#Y112sZmlsZQ%3D%3D?line=9'>10</a>\u001b[0m     y_val, model_outputs_val, \n\u001b[1;32m     <a href='vscode-notebook-cell:/Users/ellkrauze/projects/ITMO/classification_of_industrial_works/main.ipynb#Y112sZmlsZQ%3D%3D?line=10'>11</a>\u001b[0m     multi_class\u001b[39m=\u001b[39;49m\u001b[39m'\u001b[39;49m\u001b[39movr\u001b[39;49m\u001b[39m'\u001b[39;49m))\n",
      "File \u001b[0;32m~/projects/ITMO/classification_of_industrial_works/industrial-env/lib/python3.11/site-packages/sklearn/utils/_param_validation.py:211\u001b[0m, in \u001b[0;36mvalidate_params.<locals>.decorator.<locals>.wrapper\u001b[0;34m(*args, **kwargs)\u001b[0m\n\u001b[1;32m    205\u001b[0m \u001b[39mtry\u001b[39;00m:\n\u001b[1;32m    206\u001b[0m     \u001b[39mwith\u001b[39;00m config_context(\n\u001b[1;32m    207\u001b[0m         skip_parameter_validation\u001b[39m=\u001b[39m(\n\u001b[1;32m    208\u001b[0m             prefer_skip_nested_validation \u001b[39mor\u001b[39;00m global_skip_validation\n\u001b[1;32m    209\u001b[0m         )\n\u001b[1;32m    210\u001b[0m     ):\n\u001b[0;32m--> 211\u001b[0m         \u001b[39mreturn\u001b[39;00m func(\u001b[39m*\u001b[39;49margs, \u001b[39m*\u001b[39;49m\u001b[39m*\u001b[39;49mkwargs)\n\u001b[1;32m    212\u001b[0m \u001b[39mexcept\u001b[39;00m InvalidParameterError \u001b[39mas\u001b[39;00m e:\n\u001b[1;32m    213\u001b[0m     \u001b[39m# When the function is just a wrapper around an estimator, we allow\u001b[39;00m\n\u001b[1;32m    214\u001b[0m     \u001b[39m# the function to delegate validation to the estimator, but we replace\u001b[39;00m\n\u001b[1;32m    215\u001b[0m     \u001b[39m# the name of the estimator by the name of the function in the error\u001b[39;00m\n\u001b[1;32m    216\u001b[0m     \u001b[39m# message to avoid confusion.\u001b[39;00m\n\u001b[1;32m    217\u001b[0m     msg \u001b[39m=\u001b[39m re\u001b[39m.\u001b[39msub(\n\u001b[1;32m    218\u001b[0m         \u001b[39mr\u001b[39m\u001b[39m\"\u001b[39m\u001b[39mparameter of \u001b[39m\u001b[39m\\\u001b[39m\u001b[39mw+ must be\u001b[39m\u001b[39m\"\u001b[39m,\n\u001b[1;32m    219\u001b[0m         \u001b[39mf\u001b[39m\u001b[39m\"\u001b[39m\u001b[39mparameter of \u001b[39m\u001b[39m{\u001b[39;00mfunc\u001b[39m.\u001b[39m\u001b[39m__qualname__\u001b[39m\u001b[39m}\u001b[39;00m\u001b[39m must be\u001b[39m\u001b[39m\"\u001b[39m,\n\u001b[1;32m    220\u001b[0m         \u001b[39mstr\u001b[39m(e),\n\u001b[1;32m    221\u001b[0m     )\n",
      "File \u001b[0;32m~/projects/ITMO/classification_of_industrial_works/industrial-env/lib/python3.11/site-packages/sklearn/metrics/_ranking.py:621\u001b[0m, in \u001b[0;36mroc_auc_score\u001b[0;34m(y_true, y_score, average, sample_weight, max_fpr, multi_class, labels)\u001b[0m\n\u001b[1;32m    619\u001b[0m     \u001b[39mif\u001b[39;00m multi_class \u001b[39m==\u001b[39m \u001b[39m\"\u001b[39m\u001b[39mraise\u001b[39m\u001b[39m\"\u001b[39m:\n\u001b[1;32m    620\u001b[0m         \u001b[39mraise\u001b[39;00m \u001b[39mValueError\u001b[39;00m(\u001b[39m\"\u001b[39m\u001b[39mmulti_class must be in (\u001b[39m\u001b[39m'\u001b[39m\u001b[39movo\u001b[39m\u001b[39m'\u001b[39m\u001b[39m, \u001b[39m\u001b[39m'\u001b[39m\u001b[39movr\u001b[39m\u001b[39m'\u001b[39m\u001b[39m)\u001b[39m\u001b[39m\"\u001b[39m)\n\u001b[0;32m--> 621\u001b[0m     \u001b[39mreturn\u001b[39;00m _multiclass_roc_auc_score(\n\u001b[1;32m    622\u001b[0m         y_true, y_score, labels, multi_class, average, sample_weight\n\u001b[1;32m    623\u001b[0m     )\n\u001b[1;32m    624\u001b[0m \u001b[39melif\u001b[39;00m y_type \u001b[39m==\u001b[39m \u001b[39m\"\u001b[39m\u001b[39mbinary\u001b[39m\u001b[39m\"\u001b[39m:\n\u001b[1;32m    625\u001b[0m     labels \u001b[39m=\u001b[39m np\u001b[39m.\u001b[39munique(y_true)\n",
      "File \u001b[0;32m~/projects/ITMO/classification_of_industrial_works/industrial-env/lib/python3.11/site-packages/sklearn/metrics/_ranking.py:694\u001b[0m, in \u001b[0;36m_multiclass_roc_auc_score\u001b[0;34m(y_true, y_score, labels, multi_class, average, sample_weight)\u001b[0m\n\u001b[1;32m    692\u001b[0m \u001b[39m# validation of the input y_score\u001b[39;00m\n\u001b[1;32m    693\u001b[0m \u001b[39mif\u001b[39;00m \u001b[39mnot\u001b[39;00m np\u001b[39m.\u001b[39mallclose(\u001b[39m1\u001b[39m, y_score\u001b[39m.\u001b[39msum(axis\u001b[39m=\u001b[39m\u001b[39m1\u001b[39m)):\n\u001b[0;32m--> 694\u001b[0m     \u001b[39mraise\u001b[39;00m \u001b[39mValueError\u001b[39;00m(\n\u001b[1;32m    695\u001b[0m         \u001b[39m\"\u001b[39m\u001b[39mTarget scores need to be probabilities for multiclass \u001b[39m\u001b[39m\"\u001b[39m\n\u001b[1;32m    696\u001b[0m         \u001b[39m\"\u001b[39m\u001b[39mroc_auc, i.e. they should sum up to 1.0 over classes\u001b[39m\u001b[39m\"\u001b[39m\n\u001b[1;32m    697\u001b[0m     )\n\u001b[1;32m    699\u001b[0m \u001b[39m# validation for multiclass parameter specifications\u001b[39;00m\n\u001b[1;32m    700\u001b[0m average_options \u001b[39m=\u001b[39m (\u001b[39m\"\u001b[39m\u001b[39mmacro\u001b[39m\u001b[39m\"\u001b[39m, \u001b[39m\"\u001b[39m\u001b[39mweighted\u001b[39m\u001b[39m\"\u001b[39m, \u001b[39mNone\u001b[39;00m)\n",
      "\u001b[0;31mValueError\u001b[0m: Target scores need to be probabilities for multiclass roc_auc, i.e. they should sum up to 1.0 over classes"
     ]
    }
   ],
   "source": [
    "from sklearn.metrics import accuracy_score, roc_auc_score\n",
    "print(f\"Validation accuracy:\", accuracy_score(y_val, preds_val))\n",
    "print(f\"Test accuracy:\", accuracy_score(test[\"label\"], preds_test))\n",
    "\n",
    "# print(f\"Validation accuracy:\", roc_auc_score(\n",
    "#     y_val, softmax(model_outputs_val, axis=1)[:,1], \n",
    "#     average='macro', multi_class='ovr'))\n",
    "\n",
    "# print(f\"Validation accuracy:\", roc_auc_score(\n",
    "#     y_val, model_outputs_val, \n",
    "#     multi_class='ovr'))"
   ]
  },
  {
   "cell_type": "code",
   "execution_count": null,
   "metadata": {},
   "outputs": [],
   "source": [
    "\n",
    "print(f\"Test accuracy:\", roc_auc_score(test[\"label\"], model_outputs_test,average='macro', multi_class='ovr'))"
   ]
  },
  {
   "cell_type": "markdown",
   "metadata": {},
   "source": []
  },
  {
   "cell_type": "code",
   "execution_count": 51,
   "metadata": {},
   "outputs": [
    {
     "name": "stdout",
     "output_type": "stream",
     "text": [
      "Validation logloss: 0.026405376790313267\n",
      "Test logloss: 0.04162040752503296\n"
     ]
    }
   ],
   "source": [
    "print(f\"Validation logloss:\", multiclass_logloss(y_val, model_outputs_val, eps=1e-15))\n",
    "print(f\"Test logloss:\", multiclass_logloss(test[\"label\"], model_outputs_test, eps=1e-15))"
   ]
  },
  {
   "cell_type": "markdown",
   "metadata": {},
   "source": [
    "### Model Description"
   ]
  },
  {
   "cell_type": "code",
   "execution_count": 75,
   "metadata": {},
   "outputs": [
    {
     "data": {
      "text/plain": [
       "RobertaConfig {\n",
       "  \"_name_or_path\": \"outputs/\",\n",
       "  \"architectures\": [\n",
       "    \"RobertaForSequenceClassification\"\n",
       "  ],\n",
       "  \"attention_probs_dropout_prob\": 0.1,\n",
       "  \"bos_token_id\": 0,\n",
       "  \"classifier_dropout\": null,\n",
       "  \"eos_token_id\": 2,\n",
       "  \"hidden_act\": \"gelu\",\n",
       "  \"hidden_dropout_prob\": 0.1,\n",
       "  \"hidden_size\": 768,\n",
       "  \"id2label\": {\n",
       "    \"0\": \"LABEL_0\",\n",
       "    \"1\": \"LABEL_1\",\n",
       "    \"2\": \"LABEL_2\",\n",
       "    \"3\": \"LABEL_3\",\n",
       "    \"4\": \"LABEL_4\",\n",
       "    \"5\": \"LABEL_5\",\n",
       "    \"6\": \"LABEL_6\",\n",
       "    \"7\": \"LABEL_7\",\n",
       "    \"8\": \"LABEL_8\",\n",
       "    \"9\": \"LABEL_9\",\n",
       "    \"10\": \"LABEL_10\",\n",
       "    \"11\": \"LABEL_11\",\n",
       "    \"12\": \"LABEL_12\",\n",
       "    \"13\": \"LABEL_13\",\n",
       "    \"14\": \"LABEL_14\",\n",
       "    \"15\": \"LABEL_15\",\n",
       "    \"16\": \"LABEL_16\",\n",
       "    \"17\": \"LABEL_17\",\n",
       "    \"18\": \"LABEL_18\",\n",
       "    \"19\": \"LABEL_19\",\n",
       "    \"20\": \"LABEL_20\",\n",
       "    \"21\": \"LABEL_21\",\n",
       "    \"22\": \"LABEL_22\",\n",
       "    \"23\": \"LABEL_23\",\n",
       "    \"24\": \"LABEL_24\",\n",
       "    \"25\": \"LABEL_25\",\n",
       "    \"26\": \"LABEL_26\",\n",
       "    \"27\": \"LABEL_27\",\n",
       "    \"28\": \"LABEL_28\",\n",
       "    \"29\": \"LABEL_29\",\n",
       "    \"30\": \"LABEL_30\",\n",
       "    \"31\": \"LABEL_31\",\n",
       "    \"32\": \"LABEL_32\",\n",
       "    \"33\": \"LABEL_33\",\n",
       "    \"34\": \"LABEL_34\",\n",
       "    \"35\": \"LABEL_35\",\n",
       "    \"36\": \"LABEL_36\",\n",
       "    \"37\": \"LABEL_37\",\n",
       "    \"38\": \"LABEL_38\",\n",
       "    \"39\": \"LABEL_39\",\n",
       "    \"40\": \"LABEL_40\",\n",
       "    \"41\": \"LABEL_41\",\n",
       "    \"42\": \"LABEL_42\",\n",
       "    \"43\": \"LABEL_43\",\n",
       "    \"44\": \"LABEL_44\",\n",
       "    \"45\": \"LABEL_45\",\n",
       "    \"46\": \"LABEL_46\",\n",
       "    \"47\": \"LABEL_47\",\n",
       "    \"48\": \"LABEL_48\",\n",
       "    \"49\": \"LABEL_49\",\n",
       "    \"50\": \"LABEL_50\",\n",
       "    \"51\": \"LABEL_51\",\n",
       "    \"52\": \"LABEL_52\",\n",
       "    \"53\": \"LABEL_53\",\n",
       "    \"54\": \"LABEL_54\",\n",
       "    \"55\": \"LABEL_55\",\n",
       "    \"56\": \"LABEL_56\",\n",
       "    \"57\": \"LABEL_57\",\n",
       "    \"58\": \"LABEL_58\",\n",
       "    \"59\": \"LABEL_59\",\n",
       "    \"60\": \"LABEL_60\",\n",
       "    \"61\": \"LABEL_61\",\n",
       "    \"62\": \"LABEL_62\",\n",
       "    \"63\": \"LABEL_63\",\n",
       "    \"64\": \"LABEL_64\",\n",
       "    \"65\": \"LABEL_65\",\n",
       "    \"66\": \"LABEL_66\",\n",
       "    \"67\": \"LABEL_67\",\n",
       "    \"68\": \"LABEL_68\",\n",
       "    \"69\": \"LABEL_69\",\n",
       "    \"70\": \"LABEL_70\",\n",
       "    \"71\": \"LABEL_71\",\n",
       "    \"72\": \"LABEL_72\",\n",
       "    \"73\": \"LABEL_73\",\n",
       "    \"74\": \"LABEL_74\",\n",
       "    \"75\": \"LABEL_75\",\n",
       "    \"76\": \"LABEL_76\",\n",
       "    \"77\": \"LABEL_77\",\n",
       "    \"78\": \"LABEL_78\",\n",
       "    \"79\": \"LABEL_79\",\n",
       "    \"80\": \"LABEL_80\",\n",
       "    \"81\": \"LABEL_81\",\n",
       "    \"82\": \"LABEL_82\",\n",
       "    \"83\": \"LABEL_83\",\n",
       "    \"84\": \"LABEL_84\",\n",
       "    \"85\": \"LABEL_85\",\n",
       "    \"86\": \"LABEL_86\",\n",
       "    \"87\": \"LABEL_87\",\n",
       "    \"88\": \"LABEL_88\",\n",
       "    \"89\": \"LABEL_89\",\n",
       "    \"90\": \"LABEL_90\",\n",
       "    \"91\": \"LABEL_91\",\n",
       "    \"92\": \"LABEL_92\",\n",
       "    \"93\": \"LABEL_93\",\n",
       "    \"94\": \"LABEL_94\",\n",
       "    \"95\": \"LABEL_95\",\n",
       "    \"96\": \"LABEL_96\",\n",
       "    \"97\": \"LABEL_97\",\n",
       "    \"98\": \"LABEL_98\",\n",
       "    \"99\": \"LABEL_99\",\n",
       "    \"100\": \"LABEL_100\",\n",
       "    \"101\": \"LABEL_101\",\n",
       "    \"102\": \"LABEL_102\",\n",
       "    \"103\": \"LABEL_103\",\n",
       "    \"104\": \"LABEL_104\",\n",
       "    \"105\": \"LABEL_105\",\n",
       "    \"106\": \"LABEL_106\",\n",
       "    \"107\": \"LABEL_107\",\n",
       "    \"108\": \"LABEL_108\",\n",
       "    \"109\": \"LABEL_109\",\n",
       "    \"110\": \"LABEL_110\",\n",
       "    \"111\": \"LABEL_111\",\n",
       "    \"112\": \"LABEL_112\",\n",
       "    \"113\": \"LABEL_113\",\n",
       "    \"114\": \"LABEL_114\",\n",
       "    \"115\": \"LABEL_115\",\n",
       "    \"116\": \"LABEL_116\",\n",
       "    \"117\": \"LABEL_117\",\n",
       "    \"118\": \"LABEL_118\",\n",
       "    \"119\": \"LABEL_119\",\n",
       "    \"120\": \"LABEL_120\",\n",
       "    \"121\": \"LABEL_121\",\n",
       "    \"122\": \"LABEL_122\",\n",
       "    \"123\": \"LABEL_123\",\n",
       "    \"124\": \"LABEL_124\",\n",
       "    \"125\": \"LABEL_125\",\n",
       "    \"126\": \"LABEL_126\",\n",
       "    \"127\": \"LABEL_127\",\n",
       "    \"128\": \"LABEL_128\",\n",
       "    \"129\": \"LABEL_129\",\n",
       "    \"130\": \"LABEL_130\",\n",
       "    \"131\": \"LABEL_131\",\n",
       "    \"132\": \"LABEL_132\",\n",
       "    \"133\": \"LABEL_133\",\n",
       "    \"134\": \"LABEL_134\",\n",
       "    \"135\": \"LABEL_135\",\n",
       "    \"136\": \"LABEL_136\",\n",
       "    \"137\": \"LABEL_137\",\n",
       "    \"138\": \"LABEL_138\",\n",
       "    \"139\": \"LABEL_139\",\n",
       "    \"140\": \"LABEL_140\",\n",
       "    \"141\": \"LABEL_141\",\n",
       "    \"142\": \"LABEL_142\",\n",
       "    \"143\": \"LABEL_143\",\n",
       "    \"144\": \"LABEL_144\",\n",
       "    \"145\": \"LABEL_145\",\n",
       "    \"146\": \"LABEL_146\",\n",
       "    \"147\": \"LABEL_147\",\n",
       "    \"148\": \"LABEL_148\",\n",
       "    \"149\": \"LABEL_149\",\n",
       "    \"150\": \"LABEL_150\",\n",
       "    \"151\": \"LABEL_151\",\n",
       "    \"152\": \"LABEL_152\",\n",
       "    \"153\": \"LABEL_153\",\n",
       "    \"154\": \"LABEL_154\",\n",
       "    \"155\": \"LABEL_155\",\n",
       "    \"156\": \"LABEL_156\",\n",
       "    \"157\": \"LABEL_157\",\n",
       "    \"158\": \"LABEL_158\",\n",
       "    \"159\": \"LABEL_159\",\n",
       "    \"160\": \"LABEL_160\",\n",
       "    \"161\": \"LABEL_161\",\n",
       "    \"162\": \"LABEL_162\",\n",
       "    \"163\": \"LABEL_163\",\n",
       "    \"164\": \"LABEL_164\",\n",
       "    \"165\": \"LABEL_165\",\n",
       "    \"166\": \"LABEL_166\",\n",
       "    \"167\": \"LABEL_167\",\n",
       "    \"168\": \"LABEL_168\",\n",
       "    \"169\": \"LABEL_169\",\n",
       "    \"170\": \"LABEL_170\",\n",
       "    \"171\": \"LABEL_171\",\n",
       "    \"172\": \"LABEL_172\",\n",
       "    \"173\": \"LABEL_173\",\n",
       "    \"174\": \"LABEL_174\",\n",
       "    \"175\": \"LABEL_175\",\n",
       "    \"176\": \"LABEL_176\",\n",
       "    \"177\": \"LABEL_177\",\n",
       "    \"178\": \"LABEL_178\",\n",
       "    \"179\": \"LABEL_179\",\n",
       "    \"180\": \"LABEL_180\",\n",
       "    \"181\": \"LABEL_181\",\n",
       "    \"182\": \"LABEL_182\",\n",
       "    \"183\": \"LABEL_183\",\n",
       "    \"184\": \"LABEL_184\",\n",
       "    \"185\": \"LABEL_185\",\n",
       "    \"186\": \"LABEL_186\",\n",
       "    \"187\": \"LABEL_187\",\n",
       "    \"188\": \"LABEL_188\",\n",
       "    \"189\": \"LABEL_189\",\n",
       "    \"190\": \"LABEL_190\",\n",
       "    \"191\": \"LABEL_191\",\n",
       "    \"192\": \"LABEL_192\",\n",
       "    \"193\": \"LABEL_193\",\n",
       "    \"194\": \"LABEL_194\",\n",
       "    \"195\": \"LABEL_195\",\n",
       "    \"196\": \"LABEL_196\",\n",
       "    \"197\": \"LABEL_197\",\n",
       "    \"198\": \"LABEL_198\",\n",
       "    \"199\": \"LABEL_199\",\n",
       "    \"200\": \"LABEL_200\",\n",
       "    \"201\": \"LABEL_201\",\n",
       "    \"202\": \"LABEL_202\",\n",
       "    \"203\": \"LABEL_203\",\n",
       "    \"204\": \"LABEL_204\",\n",
       "    \"205\": \"LABEL_205\",\n",
       "    \"206\": \"LABEL_206\"\n",
       "  },\n",
       "  \"initializer_range\": 0.02,\n",
       "  \"intermediate_size\": 3072,\n",
       "  \"label2id\": {\n",
       "    \"LABEL_0\": 0,\n",
       "    \"LABEL_1\": 1,\n",
       "    \"LABEL_10\": 10,\n",
       "    \"LABEL_100\": 100,\n",
       "    \"LABEL_101\": 101,\n",
       "    \"LABEL_102\": 102,\n",
       "    \"LABEL_103\": 103,\n",
       "    \"LABEL_104\": 104,\n",
       "    \"LABEL_105\": 105,\n",
       "    \"LABEL_106\": 106,\n",
       "    \"LABEL_107\": 107,\n",
       "    \"LABEL_108\": 108,\n",
       "    \"LABEL_109\": 109,\n",
       "    \"LABEL_11\": 11,\n",
       "    \"LABEL_110\": 110,\n",
       "    \"LABEL_111\": 111,\n",
       "    \"LABEL_112\": 112,\n",
       "    \"LABEL_113\": 113,\n",
       "    \"LABEL_114\": 114,\n",
       "    \"LABEL_115\": 115,\n",
       "    \"LABEL_116\": 116,\n",
       "    \"LABEL_117\": 117,\n",
       "    \"LABEL_118\": 118,\n",
       "    \"LABEL_119\": 119,\n",
       "    \"LABEL_12\": 12,\n",
       "    \"LABEL_120\": 120,\n",
       "    \"LABEL_121\": 121,\n",
       "    \"LABEL_122\": 122,\n",
       "    \"LABEL_123\": 123,\n",
       "    \"LABEL_124\": 124,\n",
       "    \"LABEL_125\": 125,\n",
       "    \"LABEL_126\": 126,\n",
       "    \"LABEL_127\": 127,\n",
       "    \"LABEL_128\": 128,\n",
       "    \"LABEL_129\": 129,\n",
       "    \"LABEL_13\": 13,\n",
       "    \"LABEL_130\": 130,\n",
       "    \"LABEL_131\": 131,\n",
       "    \"LABEL_132\": 132,\n",
       "    \"LABEL_133\": 133,\n",
       "    \"LABEL_134\": 134,\n",
       "    \"LABEL_135\": 135,\n",
       "    \"LABEL_136\": 136,\n",
       "    \"LABEL_137\": 137,\n",
       "    \"LABEL_138\": 138,\n",
       "    \"LABEL_139\": 139,\n",
       "    \"LABEL_14\": 14,\n",
       "    \"LABEL_140\": 140,\n",
       "    \"LABEL_141\": 141,\n",
       "    \"LABEL_142\": 142,\n",
       "    \"LABEL_143\": 143,\n",
       "    \"LABEL_144\": 144,\n",
       "    \"LABEL_145\": 145,\n",
       "    \"LABEL_146\": 146,\n",
       "    \"LABEL_147\": 147,\n",
       "    \"LABEL_148\": 148,\n",
       "    \"LABEL_149\": 149,\n",
       "    \"LABEL_15\": 15,\n",
       "    \"LABEL_150\": 150,\n",
       "    \"LABEL_151\": 151,\n",
       "    \"LABEL_152\": 152,\n",
       "    \"LABEL_153\": 153,\n",
       "    \"LABEL_154\": 154,\n",
       "    \"LABEL_155\": 155,\n",
       "    \"LABEL_156\": 156,\n",
       "    \"LABEL_157\": 157,\n",
       "    \"LABEL_158\": 158,\n",
       "    \"LABEL_159\": 159,\n",
       "    \"LABEL_16\": 16,\n",
       "    \"LABEL_160\": 160,\n",
       "    \"LABEL_161\": 161,\n",
       "    \"LABEL_162\": 162,\n",
       "    \"LABEL_163\": 163,\n",
       "    \"LABEL_164\": 164,\n",
       "    \"LABEL_165\": 165,\n",
       "    \"LABEL_166\": 166,\n",
       "    \"LABEL_167\": 167,\n",
       "    \"LABEL_168\": 168,\n",
       "    \"LABEL_169\": 169,\n",
       "    \"LABEL_17\": 17,\n",
       "    \"LABEL_170\": 170,\n",
       "    \"LABEL_171\": 171,\n",
       "    \"LABEL_172\": 172,\n",
       "    \"LABEL_173\": 173,\n",
       "    \"LABEL_174\": 174,\n",
       "    \"LABEL_175\": 175,\n",
       "    \"LABEL_176\": 176,\n",
       "    \"LABEL_177\": 177,\n",
       "    \"LABEL_178\": 178,\n",
       "    \"LABEL_179\": 179,\n",
       "    \"LABEL_18\": 18,\n",
       "    \"LABEL_180\": 180,\n",
       "    \"LABEL_181\": 181,\n",
       "    \"LABEL_182\": 182,\n",
       "    \"LABEL_183\": 183,\n",
       "    \"LABEL_184\": 184,\n",
       "    \"LABEL_185\": 185,\n",
       "    \"LABEL_186\": 186,\n",
       "    \"LABEL_187\": 187,\n",
       "    \"LABEL_188\": 188,\n",
       "    \"LABEL_189\": 189,\n",
       "    \"LABEL_19\": 19,\n",
       "    \"LABEL_190\": 190,\n",
       "    \"LABEL_191\": 191,\n",
       "    \"LABEL_192\": 192,\n",
       "    \"LABEL_193\": 193,\n",
       "    \"LABEL_194\": 194,\n",
       "    \"LABEL_195\": 195,\n",
       "    \"LABEL_196\": 196,\n",
       "    \"LABEL_197\": 197,\n",
       "    \"LABEL_198\": 198,\n",
       "    \"LABEL_199\": 199,\n",
       "    \"LABEL_2\": 2,\n",
       "    \"LABEL_20\": 20,\n",
       "    \"LABEL_200\": 200,\n",
       "    \"LABEL_201\": 201,\n",
       "    \"LABEL_202\": 202,\n",
       "    \"LABEL_203\": 203,\n",
       "    \"LABEL_204\": 204,\n",
       "    \"LABEL_205\": 205,\n",
       "    \"LABEL_206\": 206,\n",
       "    \"LABEL_21\": 21,\n",
       "    \"LABEL_22\": 22,\n",
       "    \"LABEL_23\": 23,\n",
       "    \"LABEL_24\": 24,\n",
       "    \"LABEL_25\": 25,\n",
       "    \"LABEL_26\": 26,\n",
       "    \"LABEL_27\": 27,\n",
       "    \"LABEL_28\": 28,\n",
       "    \"LABEL_29\": 29,\n",
       "    \"LABEL_3\": 3,\n",
       "    \"LABEL_30\": 30,\n",
       "    \"LABEL_31\": 31,\n",
       "    \"LABEL_32\": 32,\n",
       "    \"LABEL_33\": 33,\n",
       "    \"LABEL_34\": 34,\n",
       "    \"LABEL_35\": 35,\n",
       "    \"LABEL_36\": 36,\n",
       "    \"LABEL_37\": 37,\n",
       "    \"LABEL_38\": 38,\n",
       "    \"LABEL_39\": 39,\n",
       "    \"LABEL_4\": 4,\n",
       "    \"LABEL_40\": 40,\n",
       "    \"LABEL_41\": 41,\n",
       "    \"LABEL_42\": 42,\n",
       "    \"LABEL_43\": 43,\n",
       "    \"LABEL_44\": 44,\n",
       "    \"LABEL_45\": 45,\n",
       "    \"LABEL_46\": 46,\n",
       "    \"LABEL_47\": 47,\n",
       "    \"LABEL_48\": 48,\n",
       "    \"LABEL_49\": 49,\n",
       "    \"LABEL_5\": 5,\n",
       "    \"LABEL_50\": 50,\n",
       "    \"LABEL_51\": 51,\n",
       "    \"LABEL_52\": 52,\n",
       "    \"LABEL_53\": 53,\n",
       "    \"LABEL_54\": 54,\n",
       "    \"LABEL_55\": 55,\n",
       "    \"LABEL_56\": 56,\n",
       "    \"LABEL_57\": 57,\n",
       "    \"LABEL_58\": 58,\n",
       "    \"LABEL_59\": 59,\n",
       "    \"LABEL_6\": 6,\n",
       "    \"LABEL_60\": 60,\n",
       "    \"LABEL_61\": 61,\n",
       "    \"LABEL_62\": 62,\n",
       "    \"LABEL_63\": 63,\n",
       "    \"LABEL_64\": 64,\n",
       "    \"LABEL_65\": 65,\n",
       "    \"LABEL_66\": 66,\n",
       "    \"LABEL_67\": 67,\n",
       "    \"LABEL_68\": 68,\n",
       "    \"LABEL_69\": 69,\n",
       "    \"LABEL_7\": 7,\n",
       "    \"LABEL_70\": 70,\n",
       "    \"LABEL_71\": 71,\n",
       "    \"LABEL_72\": 72,\n",
       "    \"LABEL_73\": 73,\n",
       "    \"LABEL_74\": 74,\n",
       "    \"LABEL_75\": 75,\n",
       "    \"LABEL_76\": 76,\n",
       "    \"LABEL_77\": 77,\n",
       "    \"LABEL_78\": 78,\n",
       "    \"LABEL_79\": 79,\n",
       "    \"LABEL_8\": 8,\n",
       "    \"LABEL_80\": 80,\n",
       "    \"LABEL_81\": 81,\n",
       "    \"LABEL_82\": 82,\n",
       "    \"LABEL_83\": 83,\n",
       "    \"LABEL_84\": 84,\n",
       "    \"LABEL_85\": 85,\n",
       "    \"LABEL_86\": 86,\n",
       "    \"LABEL_87\": 87,\n",
       "    \"LABEL_88\": 88,\n",
       "    \"LABEL_89\": 89,\n",
       "    \"LABEL_9\": 9,\n",
       "    \"LABEL_90\": 90,\n",
       "    \"LABEL_91\": 91,\n",
       "    \"LABEL_92\": 92,\n",
       "    \"LABEL_93\": 93,\n",
       "    \"LABEL_94\": 94,\n",
       "    \"LABEL_95\": 95,\n",
       "    \"LABEL_96\": 96,\n",
       "    \"LABEL_97\": 97,\n",
       "    \"LABEL_98\": 98,\n",
       "    \"LABEL_99\": 99\n",
       "  },\n",
       "  \"layer_norm_eps\": 1e-05,\n",
       "  \"max_position_embeddings\": 514,\n",
       "  \"model_type\": \"roberta\",\n",
       "  \"num_attention_heads\": 12,\n",
       "  \"num_hidden_layers\": 12,\n",
       "  \"pad_token_id\": 1,\n",
       "  \"position_embedding_type\": \"absolute\",\n",
       "  \"problem_type\": \"single_label_classification\",\n",
       "  \"torch_dtype\": \"float32\",\n",
       "  \"transformers_version\": \"4.34.1\",\n",
       "  \"type_vocab_size\": 1,\n",
       "  \"use_cache\": true,\n",
       "  \"vocab_size\": 50265\n",
       "}"
      ]
     },
     "execution_count": 75,
     "metadata": {},
     "output_type": "execute_result"
    }
   ],
   "source": [
    "model.config"
   ]
  }
 ],
 "metadata": {
  "kernelspec": {
   "display_name": "industrial-env",
   "language": "python",
   "name": "python3"
  },
  "language_info": {
   "codemirror_mode": {
    "name": "ipython",
    "version": 3
   },
   "file_extension": ".py",
   "mimetype": "text/x-python",
   "name": "python",
   "nbconvert_exporter": "python",
   "pygments_lexer": "ipython3",
   "version": "3.11.6"
  },
  "orig_nbformat": 4
 },
 "nbformat": 4,
 "nbformat_minor": 2
}
